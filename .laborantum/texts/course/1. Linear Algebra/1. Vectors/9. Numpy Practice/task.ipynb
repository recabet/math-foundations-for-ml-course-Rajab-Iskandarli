{
    "cells": [
        {
            "cell_type": "markdown",
            "metadata": {},
            "source": [
                "# Numpy Practice\n",
                "\n",
                "In this task we will work with the following tensors:\n",
                "\n",
                "1. <img src=\"images\\img.png\" width=\"350\" />\n",
                "2. <img src=\"images\\img_1.png\" width=\"350\" />\n",
                "3. <img src=\"images\\img_2.png\" width=\"350\" />\n",
                "4. <img src=\"images\\img_3.png\" width=\"350\" />"
            ]
        },
        {
            "cell_type": "code",
            "execution_count": 1,
            "metadata": {},
            "outputs": [],
            "source": [
                "import numpy as np\n",
                "import json_tricks\n",
                "import lovely_numpy as ln"
            ]
        },
        {
            "cell_type": "code",
            "execution_count": 2,
            "metadata": {},
            "outputs": [],
            "source": [
                "answer = {}"
            ]
        },
        {
            "cell_type": "markdown",
            "metadata": {},
            "source": [
                "For the sake of visualization, I will add a vector `x` below on which I will demonstrate how operations wit vectors work. Your task will be to apply necessary fucntions where it is needed to do so."
            ]
        },
        {
            "cell_type": "code",
            "execution_count": 3,
            "metadata": {},
            "outputs": [],
            "source": [
                "x = np.array([0, 1, 2, 3, 4, 5]) ** 2"
            ]
        },
        {
            "cell_type": "markdown",
            "metadata": {},
            "source": [
                "# 1. Build numpy vectors"
            ]
        },
        {
            "cell_type": "markdown",
            "metadata": {},
            "source": [
                "Firstly let us write numpy for the vectors that are enumerated in the task in form of list of numpy tensors\n",
                "\n",
                "For instance, for the vector \n",
                "$$\\mathbf x = \n",
                "\\begin{bmatrix}\n",
                "1 \\\\\n",
                "2 \\\\\n",
                "3 \n",
                "\\end{bmatrix},$$\n",
                "the answer should be ```np.array([1, 2, 3])```."
            ]
        },
        {
            "cell_type": "code",
            "execution_count": 4,
            "metadata": {},
            "outputs": [],
            "source": [
                "answer['vectors'] = [\n",
                "    np.array([6]),\n",
                "    np.array([-4,3]),\n",
                "    np.array([3,5,4]),\n",
                "    np.array([2,4,-4,3,-2,6,3,2,1])\n",
                "]\n"
            ]
        },
        {
            "cell_type": "markdown",
            "metadata": {},
            "source": [
                "# 2. Get operations with vectors (slicing)\n",
                "\n",
                "Vectors you can:\n",
                "- index\n",
                "    - `x[3]` (returns corresponding coordinate)\n",
                "\n",
                "- slice, \n",
                "    - `x[2:4]` (returns vector of corresponding coordinates from 2nd to 4th (non-inlusively))\n",
                "    - `x[:3]` (extractsall coordinates up to 3rd)\n",
                "    - `x[3:]` (extracts coordinates from 3rd an further)\n",
                "\n",
                "- slice with stride\n",
                "    - `x[1:5:2]` (extracts all the coordinates from 1st to 5th (non-inclusively) with stride 2)\n",
                "    - `x[::2]` (extracts every second coordinate)\n",
                "    - `x[::-1]` (inverts a vector due to -1 stride)\n",
                "\n",
                "- index a vector with another vector or list\n",
                "    - `x[[1, 2, 5]]` will output 1st, 2nd and 5th coordinates\n",
                "\n",
                "- index a vector using a binary mask, for instance\n",
                "    - `x[x > 4]` will get all of the coordinates that are larger than 4 (`x > 4` returns `[False, False, False, True, True, True]`) "
            ]
        },
        {
            "cell_type": "code",
            "execution_count": 5,
            "metadata": {},
            "outputs": [
                {
                    "name": "stdout",
                    "output_type": "stream",
                    "text": [
                        "x :\t\t [ 0  1  4  9 16 25]\n",
                        "x[3] :\t\t 9\n",
                        "x[2:4] :\t [4 9]\n",
                        "x[:3] :\t\t [0 1 4]\n",
                        "x[3:] :\t\t [ 9 16 25]\n",
                        "x[1:5:2] :\t [1 9]\n",
                        "x[2:] :\t\t [ 4  9 16 25]\n",
                        "x[::2] :\t [ 0  4 16]\n",
                        "x[::-1] :\t [25 16  9  4  1  0]\n",
                        "x[[1, 2, 5]] :\t [ 1  4 25]\n",
                        "x[x > 4] :\t [ 9 16 25]\n"
                    ]
                }
            ],
            "source": [
                "print('x :\\t\\t',  x)\n",
                "print('x[3] :\\t\\t', x[3])\n",
                "print('x[2:4] :\\t', x[2:4] )\n",
                "print('x[:3] :\\t\\t', x[:3])\n",
                "print('x[3:] :\\t\\t', x[3:])\n",
                "print('x[1:5:2] :\\t', x[1:5:2])\n",
                "print('x[2:] :\\t\\t', x[2:])\n",
                "print('x[::2] :\\t', x[::2])\n",
                "print('x[::-1] :\\t', x[::-1])\n",
                "print('x[[1, 2, 5]] :\\t', x[[1, 2, 5]])\n",
                "print('x[x > 4] :\\t', x[x > 4])\n"
            ]
        },
        {
            "cell_type": "markdown",
            "metadata": {},
            "source": [
                "## Task\n",
                "\n",
                "For exercise, create a list containing:\n",
                "- 0th coordinate of last vector in the exercise\n",
                "- last coordinate of last vector in the exercise\n",
                "- all coordinates with even indices of the last vector in the exercise\n",
                "- all coordinates with odd indices of the last vector in the exercise\n",
                "- inverted last vector\n",
                "- 1st, 0th and 4th coordinates of vector in vector"
            ]
        },
        {
            "cell_type": "code",
            "execution_count": 6,
            "metadata": {},
            "outputs": [],
            "source": [
                "answer['slices'] = [\n",
                "    answer['vectors'][-1][0],\n",
                "    answer['vectors'][-1][-1],\n",
                "    answer['vectors'][-1][::2],\n",
                "    answer['vectors'][-1][1::2],\n",
                "    answer['vectors'][-1][::-1],\n",
                "    answer['vectors'][-1][[1,0,4]]\n",
                "]"
            ]
        },
        {
            "cell_type": "markdown",
            "metadata": {},
            "source": [
                "# 3. Get operations for vectors"
            ]
        },
        {
            "cell_type": "markdown",
            "metadata": {},
            "source": [
                "- set and get values with index operators \n",
                "    - `x[3] = 1` -- your vector 3rd coordinate will be set to 1\n",
                "    - `x[2:5] = 1` -- sets all of the coordinates from 2nd to 5th to 1\n",
                "    - you can use any other indexing method to set the coordinates to a specified value\n",
                "\n",
                "\n",
                "It is very important to remember that by default numpy copies are **shallow**, meaning that code\n",
                "```\n",
                "y = x\n",
                "y[1] = 3\n",
                "```\n",
                "\n",
                "whill change 1st coordinate for vector named `x` as `x` and `y` ar basically the same vector with two names\n",
                "\n",
                "To avoid this, there is a `x.copy()` method"
            ]
        },
        {
            "cell_type": "code",
            "execution_count": 7,
            "metadata": {},
            "outputs": [
                {
                    "name": "stdout",
                    "output_type": "stream",
                    "text": [
                        "Shallow copy\n",
                        "x [ 0  1  4  9 16 25]\n",
                        "y [ 0  1  4  9 16 25]\n",
                        "x [10  1  4  9 16 25]\n",
                        "y [10  1  4  9 16 25]\n",
                        "Deep copy\n",
                        "x [ 0  1  4  9 16 25]\n",
                        "y [10  1  4  9 16 25]\n"
                    ]
                }
            ],
            "source": [
                "print('Shallow copy')\n",
                "print('x', x)\n",
                "y = x\n",
                "print('y', y)\n",
                "y[0] = 10\n",
                "print('x', x)\n",
                "print('y', y)\n",
                "\n",
                "x[0] = 0\n",
                "\n",
                "print('Deep copy')\n",
                "y = x.copy()\n",
                "y[0] = 10\n",
                "print('x', x)\n",
                "print('y', y)\n"
            ]
        },
        {
            "cell_type": "markdown",
            "metadata": {},
            "source": [
                "## Task \n",
                "\n",
                "For the last vector create deep copies with:\n",
                "- 3rd coordinate set to 1\n",
                "- 2-4th coordinates including the last set to 10\n",
                "- Every even coordinate set to 2\n",
                "- Every odd coordinate set to 3\n",
                "- Last coordinate set to -1\n",
                "- 0, 1 and last coordinates set to -10\n",
                "- All coordinates that are smaller than 1 should be set to 0"
            ]
        },
        {
            "cell_type": "code",
            "execution_count": 8,
            "metadata": {},
            "outputs": [],
            "source": [
                "y1 = answer['vectors'][-1].copy()\n",
                "y1[3] = 1\n",
                "\n",
                "y2 = answer['vectors'][-1].copy()\n",
                "y2[2:5] = 10\n",
                "\n",
                "y3 = answer['vectors'][-1].copy()\n",
                "y3[::2] = 2\n",
                "\n",
                "y4 = answer['vectors'][-1].copy()\n",
                "y4[1::2] = 3\n",
                "\n",
                "y5 = answer['vectors'][-1].copy()\n",
                "y5[[0, 1, -1]] = -10\n",
                "\n",
                "y6 = answer['vectors'][-1].copy()\n",
                "y6[y6 < 1] = 0\n",
                "\n",
                "y7 = answer['vectors'][-1].copy()\n",
                "y7[-1] = -1\n",
                "\n",
                "answer['deep_copy'] = [y1, y2, y3, y4, y7, y5, y6]\n"
            ]
        },
        {
            "cell_type": "markdown",
            "metadata": {},
            "source": [
                "# 4. Checking properties for Numpy arrays"
            ]
        },
        {
            "cell_type": "markdown",
            "metadata": {},
            "source": [
                "You can check properties of an array `x` with the following commands:\n",
                "- `x.shape` checks shape of array\n",
                "- `x.ndim` checks number of dimensions of an array (is it 1d table or 2d table, or 3d table)\n",
                "- `x.size` checks number of elements\n",
                "- `x.dtype` checks data type of the elements\n",
                "- `x.itemsize` checks number of bits for every element\n",
                "- `x.nbytes` checks whole memory occupied by the array"
            ]
        },
        {
            "cell_type": "code",
            "execution_count": 9,
            "metadata": {},
            "outputs": [
                {
                    "name": "stdout",
                    "output_type": "stream",
                    "text": [
                        "x.shape : \t (6,)\n",
                        "x.ndim : \t 1\n",
                        "x.size : \t 6\n",
                        "x.dtype : \t int64\n",
                        "x.itemsize : \t 8\n",
                        "x.nbytes : \t 48\n"
                    ]
                }
            ],
            "source": [
                "print('x.shape : \\t', x.shape)\n",
                "print('x.ndim : \\t', x.ndim)\n",
                "print('x.size : \\t', x.size)\n",
                "print('x.dtype : \\t', x.dtype)\n",
                "print('x.itemsize : \\t', x.itemsize)\n",
                "print('x.nbytes : \\t', x.nbytes)\n"
            ]
        },
        {
            "cell_type": "markdown",
            "metadata": {},
            "source": [
                "## Task\n",
                "\n",
                "Check sizes of all arrays in `vectors` and return them as answer"
            ]
        },
        {
            "cell_type": "code",
            "execution_count": 10,
            "metadata": {},
            "outputs": [],
            "source": [
                "answer['shapes'] = [\n",
                "    *[i.shape for i in answer['vectors']]\n",
                "]"
            ]
        },
        {
            "cell_type": "markdown",
            "metadata": {},
            "source": [
                "# 5. Shaping arrays\n",
                "\n",
                "You can flatten or reshape numpy arrays as soon as it has enough elements to fit all the shape\n",
                "\n",
                "For example, vector `x` can be converted to shape `[2, 3]` and `[3, 2]`\n",
                "\n",
                "It is possible to replace one of the dimensionalities with `-1` so that it is dynamically determined from the number of elements of initial tensor"
            ]
        },
        {
            "cell_type": "code",
            "execution_count": 11,
            "metadata": {},
            "outputs": [
                {
                    "name": "stdout",
                    "output_type": "stream",
                    "text": [
                        "x.reshape([2, 3]) :\n",
                        " [[ 0  1  4]\n",
                        " [ 9 16 25]]\n",
                        "x.reshape([3, 2]) :\n",
                        " [[ 0  1]\n",
                        " [ 4  9]\n",
                        " [16 25]]\n",
                        "x.reshape([2, -1]) :\n",
                        " [[ 0  1  4]\n",
                        " [ 9 16 25]]\n",
                        "x.reshape([3, -1]) :\n",
                        " [[ 0  1]\n",
                        " [ 4  9]\n",
                        " [16 25]]\n"
                    ]
                }
            ],
            "source": [
                "print('x.reshape([2, 3]) :\\n', x.reshape([2, 3]))\n",
                "print('x.reshape([3, 2]) :\\n', x.reshape([3, 2]))\n",
                "\n",
                "print('x.reshape([2, -1]) :\\n', x.reshape([2, -1]))\n",
                "print('x.reshape([3, -1]) :\\n', x.reshape([3, -1]))"
            ]
        },
        {
            "cell_type": "markdown",
            "metadata": {},
            "source": [
                "## Task\n",
                "\n",
                "Reshape last vector to the shape `[3, 3]`"
            ]
        },
        {
            "cell_type": "code",
            "execution_count": 12,
            "metadata": {},
            "outputs": [],
            "source": [
                "answer['reshaped'] = [\n",
                "    answer['vectors'][-1].reshape((3,3))\n",
                "]"
            ]
        },
        {
            "cell_type": "markdown",
            "metadata": {},
            "source": [
                "# 6. Slicing ND Arrays\n",
                "\n",
                "We have recieved 2D array. You can work in numpy with 1D (vectors), 2D (matrices) and N-dimensional (tensors) arrays in the same way and using the same functions as for 1D arrays with one small exception: you can slice them with several slices.\n",
                "\n",
                "For examplem for array\n",
                "\n",
                "```\n",
                "y = x.reshape([2, 3])\n",
                "```\n",
                "\n",
                "You can do the following slicing:\n",
                "\n",
                "```\n",
                "y[:, 1:]\n",
                "```\n",
                "That will select all the elements from all the rows (1st `:` indexing) and all the elements from the columns starting from 1st colom (second `1:` indexing):"
            ]
        },
        {
            "cell_type": "code",
            "execution_count": 13,
            "metadata": {},
            "outputs": [
                {
                    "name": "stdout",
                    "output_type": "stream",
                    "text": [
                        "y : \n",
                        " [[ 0  1  4]\n",
                        " [ 9 16 25]]\n",
                        "y[:, 1:] :  \n",
                        " [[ 1  4]\n",
                        " [16 25]]\n"
                    ]
                }
            ],
            "source": [
                "y = x.reshape([2, 3])\n",
                "print('y : \\n', y)\n",
                "print('y[:, 1:] :  \\n', y[:, 1:])"
            ]
        },
        {
            "cell_type": "markdown",
            "metadata": {},
            "source": [
                "## Task\n",
                "\n",
                "Reshape your last vector to $3 \\times 3$ matrix and select \n",
                "- first two columns\n",
                "- firts two rows\n",
                "- first and last rows\n",
                "- first and last columns"
            ]
        },
        {
            "cell_type": "code",
            "execution_count": 14,
            "metadata": {},
            "outputs": [],
            "source": [
                "\n",
                "answer['sliced_reshaped'] = [\n",
                "    answer['vectors'][-1].reshape((3,3))[:,:2],\n",
                "    answer['vectors'][-1].reshape((3,3))[:2,:],\n",
                "    answer['vectors'][-1].reshape((3,3))[[0,-1],:],\n",
                "    answer['vectors'][-1].reshape((3,3))[:,[0,-1]]\n",
                "]   "
            ]
        },
        {
            "cell_type": "markdown",
            "metadata": {},
            "source": [
                "# 6. Changing array dtype"
            ]
        },
        {
            "cell_type": "markdown",
            "metadata": {},
            "source": [
                "You can also change dtype of the arrays, for instance `x.astype('int8')` will convert `x` to `int8`"
            ]
        },
        {
            "cell_type": "code",
            "execution_count": 15,
            "metadata": {},
            "outputs": [
                {
                    "name": "stdout",
                    "output_type": "stream",
                    "text": [
                        "x :  [ 0  1  4  9 16 25]\n",
                        "x.astype('int8') :  [ 0  1  4  9 16 25]\n",
                        "x.astype('int8') :  [False  True  True  True  True  True]\n"
                    ]
                }
            ],
            "source": [
                "print('x : ', x)\n",
                "print(\"x.astype('int8') : \", x.astype('int8'))\n",
                "print(\"x.astype('int8') : \", x.astype('bool'))"
            ]
        },
        {
            "cell_type": "markdown",
            "metadata": {},
            "source": [
                "## Task\n",
                "\n",
                "Turn all of your vectors to boolean and then to float32"
            ]
        },
        {
            "cell_type": "code",
            "execution_count": 16,
            "metadata": {},
            "outputs": [],
            "source": [
                "answer['bool'] = [\n",
                "    *[vector.astype('bool').astype('float32') for vector in answer['vectors']]\n",
                "]"
            ]
        },
        {
            "cell_type": "markdown",
            "metadata": {},
            "source": [
                "# 7. Very useful visualization\n",
                "\n",
                "There is a very conveniet lib that helps reading large arrays, it is called `lovely_numpy` (and there is `lovely_tensors` for torch tensors)\n",
                "\n",
                "You can print all the important info about your tensor using it:"
            ]
        },
        {
            "cell_type": "code",
            "execution_count": 17,
            "metadata": {},
            "outputs": [
                {
                    "name": "stdout",
                    "output_type": "stream",
                    "text": [
                        "ln.lovely(x) :  array[6] i64 x∈[0, 25] μ=9.167 σ=8.896 [0, 1, 4, 9, 16, 25]\n"
                    ]
                }
            ],
            "source": [
                "import lovely_numpy as ln\n",
                "print('ln.lovely(x) : ', ln.lovely(x))"
            ]
        },
        {
            "cell_type": "markdown",
            "metadata": {},
            "source": [
                "Here \n",
                "- `array[6]` means the array that contains 6 elements\n",
                "- `i64` means int64 type\n",
                "- `x∈[0, 25]` is range of values\n",
                "- `μ=9.167 σ=8.896` is mean and standard deviation for this array"
            ]
        },
        {
            "cell_type": "markdown",
            "metadata": {},
            "source": [
                "## Task\n",
                "\n",
                "Create `lovely_numpy` descriptions for the tensors in answer['vectors']"
            ]
        },
        {
            "cell_type": "code",
            "execution_count": 18,
            "metadata": {},
            "outputs": [],
            "source": [
                "answer['lovely'] = [\n",
                "    *[ln.lovely(vector) for vector in answer['vectors']]\n",
                "]"
            ]
        },
        {
            "cell_type": "markdown",
            "metadata": {},
            "source": [
                "# 8. Operations with arrays"
            ]
        },
        {
            "cell_type": "markdown",
            "metadata": {},
            "source": [
                "You can perform binary elementwise operations with tensors as long as the tensors match in shape\n",
                "\n",
                "For instance, there are the following binary operations:\n",
                "- `+` -- sum\n",
                "- `-` -- difference\n",
                "- `*` -- product\n",
                "- `/` -- fraction\n",
                "- `%` -- calculate remainder\n",
                "- `//` -- whole part of division\n",
                "- `**` -- power\n",
                "- `>` -- comparison\n",
                "\n",
                "And there is whole set of the corresponding inplace operations\n",
                "\n",
                "Actually, you may think of using any python binary operators for numpy arrays"
            ]
        },
        {
            "cell_type": "code",
            "execution_count": 19,
            "metadata": {},
            "outputs": [
                {
                    "data": {
                        "text/plain": [
                            "array([0, 2, 2, 0, 2, 2])"
                        ]
                    },
                    "execution_count": 19,
                    "metadata": {},
                    "output_type": "execute_result"
                }
            ],
            "source": [
                "(x ** 2 + x ** 3) % 3"
            ]
        },
        {
            "cell_type": "markdown",
            "metadata": {},
            "source": [
                "## Task\n",
                "\n",
                "Calculate the following expression for every vector in `answer['vetors']`:\n",
                "\n",
                "$$(x^2 + 2^x) / x^3$$"
            ]
        },
        {
            "cell_type": "code",
            "execution_count": 20,
            "metadata": {},
            "outputs": [],
            "source": [
                "answer['expression'] = [\n",
                "    *[vector**2+np.power(2,vector.astype('float32'))/vector**3 for vector in answer['vectors']]\n",
                "]"
            ]
        },
        {
            "cell_type": "markdown",
            "metadata": {},
            "source": [
                "# 9. Pointwise operations with arrays\n",
                "\n",
                "Lastly, you can perform any elementwise operations with arrays, such as:\n",
                "- $\\sin(x)$\n",
                "- $\\cos(x)$\n",
                "- $\\sqrt{x}$\n",
                "- and many others"
            ]
        },
        {
            "cell_type": "code",
            "execution_count": 21,
            "metadata": {},
            "outputs": [
                {
                    "data": {
                        "text/plain": [
                            "array([ 0.        ,  0.84147098, -0.7568025 ,  0.41211849, -0.28790332,\n",
                            "       -0.13235175])"
                        ]
                    },
                    "execution_count": 21,
                    "metadata": {},
                    "output_type": "execute_result"
                }
            ],
            "source": [
                "np.sin(x)"
            ]
        },
        {
            "cell_type": "markdown",
            "metadata": {},
            "source": [
                "## Task\n",
                "\n",
                "Calculate the following expression for every of the tensors in `answer['vectors']`:\n",
                "$\\sqrt{\\sin^2(x) + \\cos^2(x)}$"
            ]
        },
        {
            "cell_type": "code",
            "execution_count": 22,
            "metadata": {},
            "outputs": [],
            "source": [
                "answer['expression'] = [\n",
                "    *[(np.sin(vector)*np.sin(vector)+np.cos(vector)*np.cos(vector))**0.5 for vector in answer['vectors']]\n",
                "]"
            ]
        },
        {
            "cell_type": "markdown",
            "metadata": {},
            "source": [
                "# 10. Save the answer"
            ]
        },
        {
            "cell_type": "code",
            "execution_count": 23,
            "metadata": {},
            "outputs": [
                {
                    "name": "stderr",
                    "output_type": "stream",
                    "text": [
                        "/home/recabet/anaconda3/lib/python3.12/site-packages/json_tricks/encoders.py:419: UserWarning: json-tricks: numpy scalar serialization is experimental and may work differently in future versions\n",
                        "  warnings.warn('json-tricks: numpy scalar serialization is experimental and may work differently in future versions')\n"
                    ]
                },
                {
                    "data": {
                        "text/plain": [
                            "'{\"vectors\": [{\"__ndarray__\": [6], \"dtype\": \"int64\", \"shape\": [1]}, {\"__ndarray__\": [-4, 3], \"dtype\": \"int64\", \"shape\": [2]}, {\"__ndarray__\": [3, 5, 4], \"dtype\": \"int64\", \"shape\": [3]}, {\"__ndarray__\": [2, 4, -4, 3, -2, 6, 3, 2, 1], \"dtype\": \"int64\", \"shape\": [9]}], \"slices\": [2, 1, {\"__ndarray__\": [2, -4, -2, 3, 1], \"dtype\": \"int64\", \"shape\": [5]}, {\"__ndarray__\": [4, 3, 6, 2], \"dtype\": \"int64\", \"shape\": [4]}, {\"__ndarray__\": [1, 2, 3, 6, -2, 3, -4, 4, 2], \"dtype\": \"int64\", \"shape\": [9]}, {\"__ndarray__\": [4, 2, -2], \"dtype\": \"int64\", \"shape\": [3]}], \"deep_copy\": [{\"__ndarray__\": [2, 4, -4, 1, -2, 6, 3, 2, 1], \"dtype\": \"int64\", \"shape\": [9]}, {\"__ndarray__\": [2, 4, 10, 10, 10, 6, 3, 2, 1], \"dtype\": \"int64\", \"shape\": [9]}, {\"__ndarray__\": [2, 4, 2, 3, 2, 6, 2, 2, 2], \"dtype\": \"int64\", \"shape\": [9]}, {\"__ndarray__\": [2, 3, -4, 3, -2, 3, 3, 3, 1], \"dtype\": \"int64\", \"shape\": [9]}, {\"__ndarray__\": [2, 4, -4, 3, -2, 6, 3, 2, -1], \"dtype\": \"int64\", \"shape\": [9]}, {\"__ndarray__\": [-10, -10, -4, 3, -2, 6, 3, 2, -10], \"dtype\": \"int64\", \"shape\": [9]}, {\"__ndarray__\": [2, 4, 0, 3, 0, 6, 3, 2, 1], \"dtype\": \"int64\", \"shape\": [9]}], \"shapes\": [[1], [2], [3], [9]], \"reshaped\": [{\"__ndarray__\": [[2, 4, -4], [3, -2, 6], [3, 2, 1]], \"dtype\": \"int64\", \"shape\": [3, 3], \"Corder\": true}], \"sliced_reshaped\": [{\"__ndarray__\": [[2, 4], [3, -2], [3, 2]], \"dtype\": \"int64\", \"shape\": [3, 2], \"Corder\": false}, {\"__ndarray__\": [[2, 4, -4], [3, -2, 6]], \"dtype\": \"int64\", \"shape\": [2, 3], \"Corder\": true}, {\"__ndarray__\": [[2, 4, -4], [3, 2, 1]], \"dtype\": \"int64\", \"shape\": [2, 3], \"Corder\": true}, {\"__ndarray__\": [[2, -4], [3, 6], [3, 1]], \"dtype\": \"int64\", \"shape\": [3, 2], \"Corder\": false}], \"bool\": [{\"__ndarray__\": [1.0], \"dtype\": \"float32\", \"shape\": [1]}, {\"__ndarray__\": [1.0, 1.0], \"dtype\": \"float32\", \"shape\": [2]}, {\"__ndarray__\": [1.0, 1.0, 1.0], \"dtype\": \"float32\", \"shape\": [3]}, {\"__ndarray__\": [1.0, 1.0, 1.0, 1.0, 1.0, 1.0, 1.0, 1.0, 1.0], \"dtype\": \"float32\", \"shape\": [9]}], \"lovely\": [\"array[1] i64 [6]\", \"array[2] i64 \\\\u03bc=-0.500 \\\\u03c3=3.500 [-4, 3]\", \"array[3] i64 x\\\\u2208[3, 5] \\\\u03bc=4.000 \\\\u03c3=0.816 [3, 5, 4]\", \"array[9] i64 x\\\\u2208[-4, 6] \\\\u03bc=1.667 \\\\u03c3=2.867 [2, 4, -4, 3, -2, 6, 3, 2, 1]\"], \"expression\": [{\"__ndarray__\": [0.9999999999999999], \"dtype\": \"float64\", \"shape\": [1]}, {\"__ndarray__\": [1.0, 0.9999999999999999], \"dtype\": \"float64\", \"shape\": [2]}, {\"__ndarray__\": [0.9999999999999999, 0.9999999999999999, 1.0], \"dtype\": \"float64\", \"shape\": [3]}, {\"__ndarray__\": [1.0, 1.0, 1.0, 0.9999999999999999, 1.0, 0.9999999999999999, 0.9999999999999999, 1.0, 1.0], \"dtype\": \"float64\", \"shape\": [9]}]}'"
                        ]
                    },
                    "execution_count": 23,
                    "metadata": {},
                    "output_type": "execute_result"
                }
            ],
            "source": [
                "json_tricks.dump(answer, '.answer.json')"
            ]
        }
    ],
    "metadata": {
        "kernelspec": {
            "display_name": "base",
            "language": "python",
            "name": "python3"
        },
        "language_info": {
            "codemirror_mode": {
                "name": "ipython",
                "version": 3
            },
            "file_extension": ".py",
            "mimetype": "text/x-python",
            "name": "python",
            "nbconvert_exporter": "python",
            "pygments_lexer": "ipython3",
            "version": "3.12.4"
        }
    },
    "nbformat": 4,
    "nbformat_minor": 2
}
